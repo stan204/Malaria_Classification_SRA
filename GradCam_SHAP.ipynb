{
  "nbformat": 4,
  "nbformat_minor": 0,
  "metadata": {
    "colab": {
      "provenance": []
    },
    "kernelspec": {
      "name": "python3",
      "display_name": "Python 3"
    },
    "language_info": {
      "name": "python"
    }
  },
  "cells": [
    {
      "cell_type": "code",
      "source": [
        "import os\n",
        "import numpy as np\n",
        "import tensorflow as tf\n",
        "import matplotlib.pyplot as plt\n",
        "from keras.preprocessing.image import ImageDataGenerator\n",
        "! pip install -q kaggle\n",
        "#Create a new API and import that as the file\n",
        "from google.colab import files\n",
        "files.upload()\n",
        "! mkdir ~/.kaggle\n",
        "! cp kaggle.json ~/.kaggle/\n",
        "!chmod 600 ~/.kaggle/kaggle.json\n",
        "!kaggle datasets download -d iarunava/cell-images-for-detecting-malaria\n",
        "zip_path = '/content/drive/MyDrive/Kaggle/cell-images-for-detecting-malaria.zip'\n",
        "os.getcwd()\n",
        "!cp '{zip_path}' .\n",
        "!unzip -q 'cell-images-for-detecting-malaria.zip'\n",
        "os.listdir()\n",
        "data_dir = \"/content/cell_images/cell_images\""
      ],
      "metadata": {
        "id": "q2VqulX1w0aD"
      },
      "execution_count": null,
      "outputs": []
    },
    {
      "cell_type": "code",
      "source": [
        "dim = 150\n",
        "batch = 32\n",
        "\n",
        "datagen =ImageDataGenerator(rescale=1/255.0, validation_split=0.3,\n",
        "    rotation_range=20,\n",
        "    zoom_range=0.05,\n",
        "    width_shift_range=0.05,\n",
        "    height_shift_range=0.05,\n",
        "    shear_range=0.05,\n",
        "    horizontal_flip=True)\n",
        "\n",
        "train_data =datagen.flow_from_directory(data_dir, target_size=(dim,dim), batch_size=batch, class_mode = 'categorical', subset = 'training')\n",
        "validation_data =datagen.flow_from_directory(data_dir, target_size=(dim,dim), batch_size=batch, class_mode = 'categorical', subset = 'validation', shuffle=False)"
      ],
      "metadata": {
        "id": "G1zyK1GvyJ7A"
      },
      "execution_count": null,
      "outputs": []
    },
    {
      "cell_type": "markdown",
      "source": [
        "GradCam"
      ],
      "metadata": {
        "id": "zTv7dXGDoiS4"
      }
    },
    {
      "cell_type": "code",
      "source": [
        "import numpy as np\n",
        "import tensorflow as tf\n",
        "from tensorflow import keras\n",
        "from IPython.display import Image, display\n",
        "import matplotlib.pyplot as plt\n",
        "\n",
        "# Load the saved model\n",
        "model_path = \"/content/malaria_model.h5\"\n",
        "model = keras.models.load_model(model_path)\n",
        "\n",
        "# Grad-CAM implementation\n",
        "def get_img_array(img_path, size):\n",
        "    img = keras.preprocessing.image.load_img(img_path, target_size=size)\n",
        "    array = keras.preprocessing.image.img_to_array(img)\n",
        "    array = np.expand_dims(array, axis=0)\n",
        "    return array\n",
        "\n",
        "def make_gradcam_heatmap(img_array, model, last_conv_layer_name, pred_index=None):\n",
        "    grad_model = keras.models.Model(\n",
        "        [model.inputs], [model.get_layer(last_conv_layer_name).output, model.output]\n",
        "    )\n",
        "\n",
        "    with tf.GradientTape() as tape:\n",
        "        last_conv_layer_output, preds = grad_model(img_array)\n",
        "        if pred_index is None:\n",
        "            pred_index = tf.argmax(preds[0])\n",
        "        class_channel = preds[:, pred_index]\n",
        "\n",
        "    grads = tape.gradient(class_channel, last_conv_layer_output)\n",
        "    pooled_grads = tf.reduce_mean(grads, axis=(0, 1, 2))\n",
        "    last_conv_layer_output = last_conv_layer_output[0]\n",
        "    heatmap = last_conv_layer_output @ pooled_grads[..., tf.newaxis]\n",
        "    heatmap = tf.squeeze(heatmap)\n",
        "    heatmap = tf.maximum(heatmap, 0) / tf.math.reduce_max(heatmap)\n",
        "    return heatmap.numpy()\n",
        "\n",
        "# Define the last convolutional layer name\n",
        "last_conv_layer_name = \"conv2d_7\"\n",
        "\n",
        "# Path to the image you want to visualize\n",
        "img_path = \"/content/Uninfected.png\"\n",
        "\n",
        "# Display the original image\n",
        "display(Image(img_path))\n",
        "\n",
        "# Preprocess the image\n",
        "img_array = get_img_array(img_path, size=(dim, dim))\n",
        "img_array = img_array / 255.0\n",
        "\n",
        "# Generate the Grad-CAM heatmap\n",
        "heatmap = make_gradcam_heatmap(img_array, model, last_conv_layer_name)\n",
        "\n",
        "# Display the heatmap\n",
        "plt.matshow(heatmap)\n",
        "plt.show()\n",
        "\n",
        "# Code for Grad-CAM superimposition\n",
        "def save_and_display_gradcam(img_path, heatmap, cam_path=\"cam.jpg\", alpha=0.4):\n",
        "    # Load the original image\n",
        "    img = keras.preprocessing.image.load_img(img_path)\n",
        "    img = keras.preprocessing.image.img_to_array(img)\n",
        "\n",
        "    # Rescale heatmap to a range 0-255\n",
        "    heatmap = np.uint8(255 * heatmap)\n",
        "\n",
        "    # Use jet colormap to colorize heatmap\n",
        "    jet = plt.cm.get_cmap(\"jet\")\n",
        "\n",
        "    # Use RGB values of the colormap\n",
        "    jet_colors = jet(np.arange(256))[:, :3]\n",
        "    jet_heatmap = jet_colors[heatmap]\n",
        "\n",
        "    # Create an image with RGB colorized heatmap\n",
        "    jet_heatmap = keras.preprocessing.image.array_to_img(jet_heatmap)\n",
        "    jet_heatmap = jet_heatmap.resize((img.shape[1], img.shape[0]))\n",
        "    jet_heatmap = keras.preprocessing.image.img_to_array(jet_heatmap)\n",
        "\n",
        "    # Superimpose the heatmap on the original image\n",
        "    superimposed_img = jet_heatmap * alpha + img\n",
        "    superimposed_img = keras.preprocessing.image.array_to_img(superimposed_img)\n",
        "\n",
        "    # Save the superimposed image\n",
        "    superimposed_img.save(cam_path)\n",
        "\n",
        "    # Display Grad-CAM\n",
        "    display(Image(cam_path))\n",
        "\n",
        "# Path to save the Grad-CAM superimposed image\n",
        "cam_path = \"/content/cam.jpg\"\n",
        "\n",
        "# Save and display the Grad-CAM superimposed image\n",
        "save_and_display_gradcam(img_path, heatmap, cam_path)"
      ],
      "metadata": {
        "id": "lTUg_ipcat4D"
      },
      "execution_count": null,
      "outputs": []
    },
    {
      "cell_type": "code",
      "source": [
        "model.summary()"
      ],
      "metadata": {
        "id": "LEfs-ItWrAsA"
      },
      "execution_count": null,
      "outputs": []
    },
    {
      "cell_type": "markdown",
      "source": [
        "SHAP\n"
      ],
      "metadata": {
        "id": "GfFBNBZbocp0"
      }
    },
    {
      "cell_type": "code",
      "source": [
        "!pip install shap"
      ],
      "metadata": {
        "id": "wARrgEECopm8"
      },
      "execution_count": null,
      "outputs": []
    },
    {
      "cell_type": "code",
      "source": [
        "import os\n",
        "import numpy as np\n",
        "import tensorflow as tf\n",
        "import matplotlib.pyplot as plt\n",
        "from keras.preprocessing.image import ImageDataGenerator\n",
        "from tensorflow.keras.preprocessing.image import load_img, img_to_array\n",
        "import json\n",
        "import shap\n",
        "\n",
        "#Load your trained model from the saved file\n",
        "model = tf.keras.models.load_model(\"/content/malaria_model.h5\")\n",
        "\n",
        "#Convert model to a function\n",
        "def f(X):\n",
        "    tmp = X.copy()\n",
        "    tmp /= 255.0  # Normalize the input images to the range [0, 1]\n",
        "    return model(tmp)\n",
        "\n",
        "# Load the custom image from a file input\n",
        "custom_image_path = \"/content/Uninfected.png\"  # Replace with the path to your custom image\n",
        "custom_image = load_img(custom_image_path, target_size=(dim, dim))\n",
        "custom_image = img_to_array(custom_image)\n",
        "custom_image = np.expand_dims(custom_image, axis=0)\n",
        "\n",
        "# Create a binary masker\n",
        "masker = shap.maskers.Image(\"inpaint_telea\", custom_image[0].shape)\n",
        "\n",
        "# Use the SHAP explainer\n",
        "explainer = shap.Explainer(f, masker, output_names=[\"Parasitized\", \"Uninfected\"])\n",
        "\n",
        "# Generate SHAP values for the custom image\n",
        "shap_values_custom = explainer(custom_image, max_evals=5000, batch_size=5, outputs=shap.Explanation.argsort.flip[:1])\n",
        "\n",
        "# Ensure SHAP values have the correct shape\n",
        "if len(shap_values_custom.shape) == 3:\n",
        "    shap_values_custom = shap_values_custom.squeeze()\n",
        "\n",
        "# Visualize the SHAP values for the custom image\n",
        "shap.image_plot(shap_values_custom, -custom_image)  # Note the negative sign to convert the pixel values to be suitable for plotting"
      ],
      "metadata": {
        "id": "npOzjPhQKGbv"
      },
      "execution_count": null,
      "outputs": []
    }
  ]
}